{
 "cells": [
  {
   "cell_type": "markdown",
   "metadata": {
    "id": "jxjdJzd5uQ1c"
   },
   "source": [
    "Simply put, your main objective for this coding challenge is to send an API request to a server, get the data, then build a solution after getting the data."
   ]
  },
  {
   "cell_type": "markdown",
   "metadata": {
    "id": "aqQVV5weuQ1i"
   },
   "source": [
    "Here's the server address: https://ct-mock-tech-assessment.herokuapp.com/<br>"
   ]
  },
  {
   "cell_type": "markdown",
   "metadata": {
    "id": "4itWjMYFuQ1l"
   },
   "source": [
    "The data is a collection of partners who need to attend meetings within their respective countries. For each partner you will find first and last names, email addresses, country locations and dates of availability."
   ]
  },
  {
   "cell_type": "markdown",
   "metadata": {
    "id": "xt5DsSDBuQ1m"
   },
   "source": [
    "Your job is to  build an invitation list based on the data. An example solution would look like the following. Keep in mind this is an example and not the real solution."
   ]
  },
  {
   "cell_type": "markdown",
   "metadata": {
    "id": "H9hY3aKQuQ1m"
   },
   "source": [
    "<strong>THE FOLLOWING IS `ONLY` AN EXAMPLE.</strong>"
   ]
  },
  {
   "cell_type": "code",
   "execution_count": null,
   "metadata": {
    "id": "F5if2DavuQ1n"
   },
   "outputs": [],
   "source": [
    "# [   {   'attendeeCount': 12,\n",
    "#         'attendees': [   'rketring@codingtemple.com',\n",
    "#                          'mlacau@codingtemple.com',\n",
    "#                          'eomersa@codingtemple.com',\n",
    "#                          'ssheahan@codingtemple.com',\n",
    "#                          'msoult@codingtemple.com',\n",
    "#                          'bwatton@codingtemple.com',\n",
    "#                          'afernadez@codingtemple.com',\n",
    "#                          'mmottern@codingtemple.com',\n",
    "#                          'pdougherty@codingtemple.com',\n",
    "#                          'sbeemon@codingtemple.com',\n",
    "#                          'mvirgel@codingtemple.com',\n",
    "#                          'hpolitte@codingtemple.com'],\n",
    "#         'name': 'United States',\n",
    "#         'startDate': '2017-06-01'},\n",
    "#     {   'attendeeCount': 12,\n",
    "#         'attendees': [   'sterrence@codingtemple.com',\n",
    "#                          'dpatnode@codingtemple.com',\n",
    "#                          'pbertog@codingtemple.com',\n",
    "#                          'rguldemond@codingtemple.com',\n",
    "#                          'rfarlee@codingtemple.com',\n",
    "#                          'mclawson@codingtemple.com',\n",
    "#                          'mbottenfield@codingtemple.com',\n",
    "#                          'akulju@codingtemple.com',\n",
    "#                          'cscoby@codingtemple.com',\n",
    "#                          'dsiebenthal@codingtemple.com',\n",
    "#                          'mcrossen@codingtemple.com',\n",
    "#                          'mkimble@codingtemple.com'],\n",
    "#         'name': 'Ireland',\n",
    "#         'startDate': '2017-06-04'},\n",
    "#     {   'attendeeCount': 14,\n",
    "#         'attendees': [   'oduttinger@codingtemple.com',\n",
    "#                          'tzavesky@codingtemple.com',\n",
    "#                          'alyme@codingtemple.com',\n",
    "#                          'aferkovich@codingtemple.com',\n",
    "#                          'cbrookhouse@codingtemple.com',\n",
    "#                          'mselk@codingtemple.com',\n",
    "#                          'amacneil@codingtemple.com',\n",
    "#                          'jplants@codingtemple.com',\n",
    "#                          'devora@codingtemple.com',\n",
    "#                          'bcustis@codingtemple.com',\n",
    "#                          'labbot@codingtemple.com',\n",
    "#                          'civery@codingtemple.com',\n",
    "#                          'jfavieri@codingtemple.com',\n",
    "#                          'anickless@codingtemple.com'],\n",
    "#         'name': 'Spain',\n",
    "#         'startDate': '2017-05-03'},\n",
    "#     {   'attendeeCount': 3,\n",
    "#         'attendees': [   'ltoepperwein@codingtemple.com',\n",
    "#                          'olavine@codingtemple.com',\n",
    "#                          'ksinitiere@codingtemple.com'],\n",
    "#         'name': 'Mexico',\n",
    "#         'startDate': '2017-05-03'},\n",
    "#     {   'attendeeCount': 3,\n",
    "#         'attendees': [   'abending@codingtemple.com',\n",
    "#                          'agewant@codingtemple.com',\n",
    "#                          'mboyarski@codingtemple.com'],\n",
    "#         'name': 'Canada',\n",
    "#         'startDate': '2017-07-02'},\n",
    "#     {   'attendeeCount': None,\n",
    "#         'attendees': [],\n",
    "#         'name': 'Singapore',\n",
    "#         'startDate': '2017-06-15'},\n",
    "#     {   'attendeeCount': None,\n",
    "#         'attendees': [],\n",
    "#         'name': 'Japan',\n",
    "#         'startDate': '2017-06-27'},\n",
    "#     {   'attendeeCount': 16,\n",
    "#         'attendees': [   'arosentrater@codingtemple.com',\n",
    "#                          'jgoettsche@codingtemple.com',\n",
    "#                          'nbehal@codingtemple.com',\n",
    "#                          'bkilcher@codingtemple.com',\n",
    "#                          'ostutler@codingtemple.com',\n",
    "#                          'emaohu@codingtemple.com',\n",
    "#                          'jbattistoni@codingtemple.com',\n",
    "#                          'ccoryea@codingtemple.com',\n",
    "#                          'gcintron@codingtemple.com',\n",
    "#                          'scorlett@codingtemple.com',\n",
    "#                          'dallocca@codingtemple.com',\n",
    "#                          'dneedler@codingtemple.com',\n",
    "#                          'lsachez@codingtemple.com',\n",
    "#                          'sszabo@codingtemple.com',\n",
    "#                          'smaleck@codingtemple.com',\n",
    "#                          'jholtrop@codingtemple.com'],\n",
    "#         'name': 'United Kingdom',\n",
    "#         'startDate': '2017-06-05'},\n",
    "#     {   'attendeeCount': 5,\n",
    "#         'attendees': [   'bdurke@codingtemple.com',\n",
    "#                          'jtopp@codingtemple.com',\n",
    "#                          'tpinela@codingtemple.com',\n",
    "#                          'jdefore@codingtemple.com',\n",
    "#                          'jmacareno@codingtemple.com'],\n",
    "#         'name': 'France',\n",
    "#         'startDate': '2017-06-18'}]"
   ]
  },
  {
   "cell_type": "markdown",
   "metadata": {
    "id": "FDd9SsXkuQ1r"
   },
   "source": [
    "For each partner, you need to categorize them according to the country in which they must attend the meeting. Find a way to determine which availability dates work best for everyone in EACH country. If a date doesn't work for a specific partner, they simply will not be able to attend the meeting. \n",
    "\n",
    "<strong>The kicker</strong>: this meeting will last a total of two days. Because of this, you must find a RANGE of two dates that work best for everyone. For whichever two days work the best, only display the first date everyone can start.\n",
    "\n",
    "<strong>When you've finished, send a POST request to the same API (Google how to do this!!!). You MUST send the data back to the server in the form a DICTIONARY with a key of 'data'. Otherwise you will get an error. Once you make the request, look through some of the requests object's attributes to see if you get a server response code of 200. If you do, you were successful in building your solution. Otherwise, hit the drawing board and try again!</strong>"
   ]
  },
  {
   "cell_type": "code",
   "execution_count": null,
   "metadata": {
    "id": "G4Sd8QpZpUTw"
   },
   "outputs": [],
   "source": [
    "# For this technical interview, I was given 3 hours to complete it"
   ]
  },
  {
   "cell_type": "code",
   "execution_count": 4,
   "metadata": {
    "executionInfo": {
     "elapsed": 238,
     "status": "ok",
     "timestamp": 1644010917234,
     "user": {
      "displayName": "Lucas Lang",
      "photoUrl": "https://lh3.googleusercontent.com/a/default-user=s64",
      "userId": "05742899537944875866"
     },
     "user_tz": 360
    },
    "id": "s5JxqBzhq_fN"
   },
   "outputs": [],
   "source": [
    "data = {\n",
    "    \"United States\": [\n",
    "      {\n",
    "        \"availableDates\": [\n",
    "          \"2017-05-19\",\n",
    "          \"2017-05-20\",\n",
    "          \"2017-05-21\",\n",
    "          \"2017-05-26\",\n",
    "          \"2017-05-28\",\n",
    "          \"2017-05-29\",\n",
    "          \"2017-06-01\",\n",
    "          \"2017-06-02\",\n",
    "          \"2017-06-03\"\n",
    "        ],\n",
    "        \"country\": \"United States\",\n",
    "        \"email\": \"rketring@codingtemple.com\",\n",
    "        \"firstName\": \"Rebbeca\",\n",
    "        \"lastName\": \"Ketring\"\n",
    "      },\n",
    "      {\n",
    "        \"availableDates\": [\n",
    "          \"2017-05-19\",\n",
    "          \"2017-05-20\",\n",
    "          \"2017-05-21\",\n",
    "          \"2017-05-26\",\n",
    "          \"2017-05-28\",\n",
    "          \"2017-05-29\",\n",
    "          \"2017-06-01\",\n",
    "          \"2017-06-02\",\n",
    "          \"2017-06-03\"\n",
    "        ],\n",
    "        \"country\": \"United States\",\n",
    "        \"email\": \"ccafaro@codingtemple.com\",\n",
    "        \"firstName\": \"Casey\",\n",
    "        \"lastName\": \"Cafaro\"\n",
    "      }\n",
    "    ],\n",
    "    \"France\": [\n",
    "      {\n",
    "          \n",
    "      }\n",
    "    ],\n",
    "    \"Spain\": [],\n",
    "    \"Portugal\": [{}]\n",
    "}"
   ]
  },
  {
   "cell_type": "code",
   "execution_count": 13,
   "metadata": {
    "id": "8OjtICpArNAG"
   },
   "outputs": [
    {
     "name": "stdout",
     "output_type": "stream",
     "text": [
      "[{'availableDates': ['2017-06-04', '2017-06-08', '2017-06-09', '2017-06-10', '2017-06-15', '2017-06-16', '2017-06-17', '2017-06-18', '2017-06-25'], 'country': 'France', 'email': 'ecantatore@codingtemple.com', 'firstName': 'Evelina', 'lastName': 'Cantatore'}]\n"
     ]
    }
   ],
   "source": [
    "import requests\n",
    "import dateline\n",
    "\n",
    "class Conferences():\n",
    "    base_url = 'https://ct-mock-tech-assessment.herokuapp.com/'\n",
    "    calls = []\n",
    "    \n",
    "    def __init__(self):\n",
    "        self.data = None\n",
    "        self.calls.append(self)\n",
    "        \n",
    "    def __repr__(self):\n",
    "        return f'<APICall: works>'\n",
    "    \n",
    "    def run(self):\n",
    "        response = requests.get(f\"{self.base_url}\")\n",
    "        self.data = response.json()\n",
    "\n",
    "#countries\n",
    "united_states =[]\n",
    "ireland = []\n",
    "spain = []\n",
    "mexico = []\n",
    "canada= []\n",
    "singapore = []\n",
    "japan = []\n",
    "france = []\n",
    "\n",
    "\n",
    "conference = Conferences()\n",
    "conference.run()\n",
    "conference.calls\n",
    "partners = conference.data\n",
    "# print(partners)\n",
    "partner = partners['partners']\n",
    "# country = partners[\"partners\"][0][\"country\"]\n",
    "# print(countries)\n",
    "\n",
    "for person in partner:\n",
    "#     country= partners[\"partners\"][0][\"country\"]\n",
    "    if person ['country'] == \"United States\":\n",
    "        united_states.append(person)\n",
    "        \n",
    "    elif person ['country'] == \"Ireland\":\n",
    "        ireland.append(person)\n",
    "        \n",
    "    elif person ['country'] == \"Spain\":\n",
    "        spain.append(person)\n",
    "        \n",
    "    elif person ['country'] == \"Mexico\":\n",
    "        mexico.append(person)\n",
    "        \n",
    "    elif person ['country'] == \"Canada\":\n",
    "        canada.append(person)\n",
    "        \n",
    "    elif person ['country'] == \"Singapore\":\n",
    "        singapore.append(person)\n",
    "        \n",
    "    elif person ['country'] == \"Japan\":\n",
    "        japan.append(person)\n",
    "        \n",
    "    elif person ['country'] == \"France\":\n",
    "        france.append(person)\n",
    "        \n",
    "\n",
    " \n"
   ]
  },
  {
   "cell_type": "code",
   "execution_count": null,
   "metadata": {},
   "outputs": [],
   "source": []
  }
 ],
 "metadata": {
  "colab": {
   "name": "conference_organizer-clean.ipynb",
   "provenance": []
  },
  "kernelspec": {
   "display_name": "Python 3 (ipykernel)",
   "language": "python",
   "name": "python3"
  },
  "language_info": {
   "codemirror_mode": {
    "name": "ipython",
    "version": 3
   },
   "file_extension": ".py",
   "mimetype": "text/x-python",
   "name": "python",
   "nbconvert_exporter": "python",
   "pygments_lexer": "ipython3",
   "version": "3.9.12"
  }
 },
 "nbformat": 4,
 "nbformat_minor": 1
}
